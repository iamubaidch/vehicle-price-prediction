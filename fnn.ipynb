{
 "cells": [
  {
   "cell_type": "code",
   "execution_count": 18,
   "metadata": {},
   "outputs": [],
   "source": [
    "import pandas as pd\n",
    "import numpy as np\n",
    "import matplotlib.pyplot as plt\n",
    "from sklearn.model_selection import train_test_split\n",
    "from sklearn.compose import ColumnTransformer\n",
    "from sklearn.preprocessing import OneHotEncoder, StandardScaler\n",
    "from sklearn.pipeline import Pipeline\n",
    "from sklearn.metrics import mean_absolute_error, mean_squared_error, r2_score\n",
    "import tensorflow as tf\n",
    "from keras.layers import Dense, Dropout"
   ]
  },
  {
   "cell_type": "code",
   "execution_count": 19,
   "metadata": {},
   "outputs": [],
   "source": [
    "df = pd.read_csv('cleaned_data.csv')\n",
    "if 'Unnamed: 0' in df.columns:\n",
    "    df = df.drop('Unnamed: 0', axis=1)"
   ]
  },
  {
   "cell_type": "code",
   "execution_count": 20,
   "metadata": {},
   "outputs": [
    {
     "data": {
      "text/plain": [
       "(78410, 9)"
      ]
     },
     "execution_count": 20,
     "metadata": {},
     "output_type": "execute_result"
    }
   ],
   "source": [
    "df.shape"
   ]
  },
  {
   "cell_type": "code",
   "execution_count": 21,
   "metadata": {},
   "outputs": [],
   "source": [
    "X = df.drop('price', axis=1)\n",
    "y = df['price']"
   ]
  },
  {
   "cell_type": "code",
   "execution_count": 22,
   "metadata": {},
   "outputs": [],
   "source": [
    "x_train, x_test, y_train, y_test = train_test_split(X, y, test_size=0.3, random_state=12)"
   ]
  },
  {
   "cell_type": "code",
   "execution_count": 23,
   "metadata": {},
   "outputs": [],
   "source": [
    "categorical_features = ['registered_in', 'color', 'brand', 'vehicle', 'transmission', 'engine_type']\n",
    "numeric_features = ['model_year', 'mileage']\n",
    "\n",
    "preprocessor = ColumnTransformer(\n",
    "    transformers=[\n",
    "        ('num', StandardScaler(), numeric_features),\n",
    "        ('cat', OneHotEncoder(handle_unknown='ignore'), categorical_features)\n",
    "    ]\n",
    ")\n",
    "\n",
    "# Adjusting the pipeline to use the preprocessor for TensorFlow model\n",
    "data_preparation_pipeline = Pipeline(steps=[('preprocessor', preprocessor)])"
   ]
  },
  {
   "cell_type": "code",
   "execution_count": 24,
   "metadata": {},
   "outputs": [],
   "source": [
    "x_train_prepared = data_preparation_pipeline.fit_transform(x_train)\n",
    "x_test_prepared = data_preparation_pipeline.transform(x_test)"
   ]
  },
  {
   "cell_type": "code",
   "execution_count": 25,
   "metadata": {},
   "outputs": [],
   "source": [
    "x_train_prepared = x_train_prepared.toarray() if hasattr(x_train_prepared, \"toarray\") else x_train_prepared\n",
    "x_test_prepared = x_test_prepared.toarray() if hasattr(x_test_prepared, \"toarray\") else x_test_prepared"
   ]
  },
  {
   "cell_type": "code",
   "execution_count": 26,
   "metadata": {},
   "outputs": [],
   "source": [
    "model = tf.keras.Sequential([\n",
    "    Dense(256, activation='relu', input_shape=(x_train_prepared.shape[1],)),\n",
    "    Dropout(0.2),\n",
    "    Dense(128, activation='relu'),\n",
    "    Dropout(0.1),\n",
    "    Dense(64, activation='relu'),\n",
    "    Dropout(0.1),\n",
    "    Dense(32, activation='relu'),\n",
    "    Dropout(0.1),\n",
    "    Dense(1)\n",
    "])"
   ]
  },
  {
   "cell_type": "code",
   "execution_count": 27,
   "metadata": {},
   "outputs": [],
   "source": [
    "model.compile(optimizer='adam', loss='mse', metrics=['mae'])"
   ]
  },
  {
   "cell_type": "code",
   "execution_count": 28,
   "metadata": {},
   "outputs": [],
   "source": [
    "early_stopping = tf.keras.callbacks.EarlyStopping(monitor='val_loss', patience=10, restore_best_weights=True)"
   ]
  },
  {
   "cell_type": "code",
   "execution_count": 29,
   "metadata": {},
   "outputs": [
    {
     "name": "stdout",
     "output_type": "stream",
     "text": [
      "Epoch 1/100\n",
      "1373/1373 - 14s - loss: 330.8023 - mae: 6.9259 - val_loss: 150.0746 - val_mae: 7.5196 - 14s/epoch - 11ms/step\n",
      "Epoch 2/100\n",
      "1373/1373 - 9s - loss: 145.8054 - mae: 5.1588 - val_loss: 118.6289 - val_mae: 7.1648 - 9s/epoch - 7ms/step\n",
      "Epoch 3/100\n",
      "1373/1373 - 9s - loss: 133.2996 - mae: 4.8738 - val_loss: 80.6097 - val_mae: 4.9909 - 9s/epoch - 7ms/step\n",
      "Epoch 4/100\n",
      "1373/1373 - 11s - loss: 121.9984 - mae: 4.6124 - val_loss: 37.3310 - val_mae: 2.9066 - 11s/epoch - 8ms/step\n",
      "Epoch 5/100\n",
      "1373/1373 - 11s - loss: 111.7661 - mae: 4.4554 - val_loss: 40.0865 - val_mae: 2.8795 - 11s/epoch - 8ms/step\n",
      "Epoch 6/100\n",
      "1373/1373 - 11s - loss: 130.6494 - mae: 4.4808 - val_loss: 44.5122 - val_mae: 3.1517 - 11s/epoch - 8ms/step\n",
      "Epoch 7/100\n",
      "1373/1373 - 11s - loss: 100.7461 - mae: 4.2569 - val_loss: 75.8629 - val_mae: 3.3037 - 11s/epoch - 8ms/step\n",
      "Epoch 8/100\n",
      "1373/1373 - 10s - loss: 101.2939 - mae: 4.1975 - val_loss: 39.4263 - val_mae: 2.9309 - 10s/epoch - 8ms/step\n",
      "Epoch 9/100\n",
      "1373/1373 - 11s - loss: 100.7120 - mae: 4.1829 - val_loss: 110.6767 - val_mae: 3.3404 - 11s/epoch - 8ms/step\n",
      "Epoch 10/100\n",
      "1373/1373 - 11s - loss: 97.5985 - mae: 4.0472 - val_loss: 40.7084 - val_mae: 3.1154 - 11s/epoch - 8ms/step\n",
      "Epoch 11/100\n",
      "1373/1373 - 12s - loss: 115.5566 - mae: 4.1090 - val_loss: 85.4127 - val_mae: 3.2782 - 12s/epoch - 9ms/step\n",
      "Epoch 12/100\n",
      "1373/1373 - 12s - loss: 90.5053 - mae: 3.9611 - val_loss: 55.1282 - val_mae: 3.8085 - 12s/epoch - 9ms/step\n",
      "Epoch 13/100\n",
      "1373/1373 - 12s - loss: 108.2460 - mae: 3.9952 - val_loss: 38.1234 - val_mae: 2.9559 - 12s/epoch - 9ms/step\n",
      "Epoch 14/100\n",
      "1373/1373 - 11s - loss: 83.7662 - mae: 3.8470 - val_loss: 43.9990 - val_mae: 3.2414 - 11s/epoch - 8ms/step\n"
     ]
    }
   ],
   "source": [
    "history = model.fit(x_train_prepared, y_train, validation_split=0.2, epochs=100, callbacks=[early_stopping], verbose=2)"
   ]
  },
  {
   "cell_type": "code",
   "execution_count": 30,
   "metadata": {},
   "outputs": [
    {
     "name": "stdout",
     "output_type": "stream",
     "text": [
      "736/736 [==============================] - 3s 3ms/step\n",
      "Multi Layer Perceptron Model Evaluation Metrics\n",
      "MAE: 3.030130556093026\n",
      "MSE: 50.755011282261634\n",
      "RMSE: 7.124255138767956\n",
      "R^2: 0.9526307040544846\n"
     ]
    }
   ],
   "source": [
    "y_pred = model.predict(x_test_prepared).flatten()\n",
    "\n",
    "mae = mean_absolute_error(y_test, y_pred)\n",
    "mse = mean_squared_error(y_test, y_pred)\n",
    "rmse = mse ** 0.5\n",
    "r2 = r2_score(y_test, y_pred)\n",
    "\n",
    "print(\"Multi Layer Perceptron Model Evaluation Metrics\")\n",
    "print(f\"MAE: {mae}\")\n",
    "print(f\"MSE: {mse}\")\n",
    "print(f\"RMSE: {rmse}\")\n",
    "print(f\"R^2: {r2}\")"
   ]
  },
  {
   "cell_type": "code",
   "execution_count": 31,
   "metadata": {},
   "outputs": [
    {
     "name": "stderr",
     "output_type": "stream",
     "text": [
      "c:\\Users\\chmub\\miniconda3\\envs\\data_analysis\\lib\\site-packages\\keras\\src\\engine\\training.py:3103: UserWarning: You are saving your model as an HDF5 file via `model.save()`. This file format is considered legacy. We recommend using instead the native Keras format, e.g. `model.save('my_model.keras')`.\n",
      "  saving_api.save_model(\n"
     ]
    }
   ],
   "source": [
    "model.save('mlp_model.h5')"
   ]
  },
  {
   "cell_type": "code",
   "execution_count": 32,
   "metadata": {},
   "outputs": [
    {
     "data": {
      "text/plain": [
       "['preprocessing_pipeline.pkl']"
      ]
     },
     "execution_count": 32,
     "metadata": {},
     "output_type": "execute_result"
    }
   ],
   "source": [
    "import joblib\n",
    "joblib.dump(data_preparation_pipeline, 'preprocessing_pipeline.pkl')"
   ]
  }
 ],
 "metadata": {
  "kernelspec": {
   "display_name": "data_analysis",
   "language": "python",
   "name": "python3"
  },
  "language_info": {
   "codemirror_mode": {
    "name": "ipython",
    "version": 3
   },
   "file_extension": ".py",
   "mimetype": "text/x-python",
   "name": "python",
   "nbconvert_exporter": "python",
   "pygments_lexer": "ipython3",
   "version": "3.10.12"
  }
 },
 "nbformat": 4,
 "nbformat_minor": 2
}
